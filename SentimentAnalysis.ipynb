{
 "cells": [
  {
   "cell_type": "markdown",
   "metadata": {},
   "source": [
    "## Sentiment analysis with Twitter messages containing 'Trump'."
   ]
  },
  {
   "cell_type": "code",
   "execution_count": 1,
   "metadata": {},
   "outputs": [],
   "source": [
    "import numpy as np\n",
    "import pandas as pd\n",
    "pd.set_option('display.max_colwidth', -1)"
   ]
  },
  {
   "cell_type": "markdown",
   "metadata": {},
   "source": [
    "### Load Sentiment140 Tweet Corpus\n",
    "Data from http://help.sentiment140.com/for-students"
   ]
  },
  {
   "cell_type": "code",
   "execution_count": 2,
   "metadata": {},
   "outputs": [],
   "source": [
    "colnames = [\"polarity\", \"id\", \"date\", \"query\", \"user\", \"text\"]\n",
    "data = pd.read_csv(\"trainingandtestdata/training.1600000.processed.noemoticon.csv\", encoding=\"latin1\", names=colnames)"
   ]
  },
  {
   "cell_type": "code",
   "execution_count": 3,
   "metadata": {},
   "outputs": [
    {
     "data": {
      "text/plain": [
       "1600000"
      ]
     },
     "execution_count": 3,
     "metadata": {},
     "output_type": "execute_result"
    }
   ],
   "source": [
    "len(data)"
   ]
  },
  {
   "cell_type": "code",
   "execution_count": 4,
   "metadata": {},
   "outputs": [
    {
     "data": {
      "text/html": [
       "<div>\n",
       "<style scoped>\n",
       "    .dataframe tbody tr th:only-of-type {\n",
       "        vertical-align: middle;\n",
       "    }\n",
       "\n",
       "    .dataframe tbody tr th {\n",
       "        vertical-align: top;\n",
       "    }\n",
       "\n",
       "    .dataframe thead th {\n",
       "        text-align: right;\n",
       "    }\n",
       "</style>\n",
       "<table border=\"1\" class=\"dataframe\">\n",
       "  <thead>\n",
       "    <tr style=\"text-align: right;\">\n",
       "      <th></th>\n",
       "      <th>polarity</th>\n",
       "      <th>id</th>\n",
       "      <th>date</th>\n",
       "      <th>query</th>\n",
       "      <th>user</th>\n",
       "      <th>text</th>\n",
       "    </tr>\n",
       "  </thead>\n",
       "  <tbody>\n",
       "    <tr>\n",
       "      <th>0</th>\n",
       "      <td>0</td>\n",
       "      <td>1467810369</td>\n",
       "      <td>Mon Apr 06 22:19:45 PDT 2009</td>\n",
       "      <td>NO_QUERY</td>\n",
       "      <td>_TheSpecialOne_</td>\n",
       "      <td>@switchfoot http://twitpic.com/2y1zl - Awww, that's a bummer.  You shoulda got David Carr of Third Day to do it. ;D</td>\n",
       "    </tr>\n",
       "    <tr>\n",
       "      <th>1</th>\n",
       "      <td>0</td>\n",
       "      <td>1467810672</td>\n",
       "      <td>Mon Apr 06 22:19:49 PDT 2009</td>\n",
       "      <td>NO_QUERY</td>\n",
       "      <td>scotthamilton</td>\n",
       "      <td>is upset that he can't update his Facebook by texting it... and might cry as a result  School today also. Blah!</td>\n",
       "    </tr>\n",
       "    <tr>\n",
       "      <th>2</th>\n",
       "      <td>0</td>\n",
       "      <td>1467810917</td>\n",
       "      <td>Mon Apr 06 22:19:53 PDT 2009</td>\n",
       "      <td>NO_QUERY</td>\n",
       "      <td>mattycus</td>\n",
       "      <td>@Kenichan I dived many times for the ball. Managed to save 50%  The rest go out of bounds</td>\n",
       "    </tr>\n",
       "    <tr>\n",
       "      <th>3</th>\n",
       "      <td>0</td>\n",
       "      <td>1467811184</td>\n",
       "      <td>Mon Apr 06 22:19:57 PDT 2009</td>\n",
       "      <td>NO_QUERY</td>\n",
       "      <td>ElleCTF</td>\n",
       "      <td>my whole body feels itchy and like its on fire</td>\n",
       "    </tr>\n",
       "    <tr>\n",
       "      <th>4</th>\n",
       "      <td>0</td>\n",
       "      <td>1467811193</td>\n",
       "      <td>Mon Apr 06 22:19:57 PDT 2009</td>\n",
       "      <td>NO_QUERY</td>\n",
       "      <td>Karoli</td>\n",
       "      <td>@nationwideclass no, it's not behaving at all. i'm mad. why am i here? because I can't see you all over there.</td>\n",
       "    </tr>\n",
       "  </tbody>\n",
       "</table>\n",
       "</div>"
      ],
      "text/plain": [
       "   polarity          id                          date     query  \\\n",
       "0  0         1467810369  Mon Apr 06 22:19:45 PDT 2009  NO_QUERY   \n",
       "1  0         1467810672  Mon Apr 06 22:19:49 PDT 2009  NO_QUERY   \n",
       "2  0         1467810917  Mon Apr 06 22:19:53 PDT 2009  NO_QUERY   \n",
       "3  0         1467811184  Mon Apr 06 22:19:57 PDT 2009  NO_QUERY   \n",
       "4  0         1467811193  Mon Apr 06 22:19:57 PDT 2009  NO_QUERY   \n",
       "\n",
       "              user  \\\n",
       "0  _TheSpecialOne_   \n",
       "1  scotthamilton     \n",
       "2  mattycus          \n",
       "3  ElleCTF           \n",
       "4  Karoli            \n",
       "\n",
       "                                                                                                                  text  \n",
       "0  @switchfoot http://twitpic.com/2y1zl - Awww, that's a bummer.  You shoulda got David Carr of Third Day to do it. ;D  \n",
       "1  is upset that he can't update his Facebook by texting it... and might cry as a result  School today also. Blah!      \n",
       "2  @Kenichan I dived many times for the ball. Managed to save 50%  The rest go out of bounds                            \n",
       "3  my whole body feels itchy and like its on fire                                                                       \n",
       "4  @nationwideclass no, it's not behaving at all. i'm mad. why am i here? because I can't see you all over there.       "
      ]
     },
     "execution_count": 4,
     "metadata": {},
     "output_type": "execute_result"
    }
   ],
   "source": [
    "data.head()"
   ]
  },
  {
   "cell_type": "markdown",
   "metadata": {},
   "source": [
    "### Sample of data\n",
    "Because there are 1.6 million documents, I'll take a 10% sample to start with."
   ]
  },
  {
   "cell_type": "code",
   "execution_count": 5,
   "metadata": {},
   "outputs": [],
   "source": [
    "sample = data.sample(frac=0.1, replace=False, random_state=42)"
   ]
  },
  {
   "cell_type": "code",
   "execution_count": 6,
   "metadata": {},
   "outputs": [
    {
     "data": {
      "text/plain": [
       "160000"
      ]
     },
     "execution_count": 6,
     "metadata": {},
     "output_type": "execute_result"
    }
   ],
   "source": [
    "len(sample)"
   ]
  },
  {
   "cell_type": "code",
   "execution_count": 7,
   "metadata": {},
   "outputs": [
    {
     "data": {
      "text/html": [
       "<div>\n",
       "<style scoped>\n",
       "    .dataframe tbody tr th:only-of-type {\n",
       "        vertical-align: middle;\n",
       "    }\n",
       "\n",
       "    .dataframe tbody tr th {\n",
       "        vertical-align: top;\n",
       "    }\n",
       "\n",
       "    .dataframe thead th {\n",
       "        text-align: right;\n",
       "    }\n",
       "</style>\n",
       "<table border=\"1\" class=\"dataframe\">\n",
       "  <thead>\n",
       "    <tr style=\"text-align: right;\">\n",
       "      <th></th>\n",
       "      <th>polarity</th>\n",
       "      <th>id</th>\n",
       "      <th>date</th>\n",
       "      <th>query</th>\n",
       "      <th>user</th>\n",
       "      <th>text</th>\n",
       "    </tr>\n",
       "  </thead>\n",
       "  <tbody>\n",
       "    <tr>\n",
       "      <th>541200</th>\n",
       "      <td>0</td>\n",
       "      <td>2200003196</td>\n",
       "      <td>Tue Jun 16 18:18:12 PDT 2009</td>\n",
       "      <td>NO_QUERY</td>\n",
       "      <td>LaLaLindsey0609</td>\n",
       "      <td>@chrishasboobs AHHH I HOPE YOUR OK!!!</td>\n",
       "    </tr>\n",
       "    <tr>\n",
       "      <th>750</th>\n",
       "      <td>0</td>\n",
       "      <td>1467998485</td>\n",
       "      <td>Mon Apr 06 23:11:14 PDT 2009</td>\n",
       "      <td>NO_QUERY</td>\n",
       "      <td>sexygrneyes</td>\n",
       "      <td>@misstoriblack cool , i have no tweet apps  for my razr 2</td>\n",
       "    </tr>\n",
       "    <tr>\n",
       "      <th>766711</th>\n",
       "      <td>0</td>\n",
       "      <td>2300048954</td>\n",
       "      <td>Tue Jun 23 13:40:11 PDT 2009</td>\n",
       "      <td>NO_QUERY</td>\n",
       "      <td>sammydearr</td>\n",
       "      <td>@TiannaChaos i know  just family drama. its lame.hey next time u hang out with kim n u guys like have a sleepover or whatever, ill call u</td>\n",
       "    </tr>\n",
       "    <tr>\n",
       "      <th>285055</th>\n",
       "      <td>0</td>\n",
       "      <td>1993474027</td>\n",
       "      <td>Mon Jun 01 10:26:07 PDT 2009</td>\n",
       "      <td>NO_QUERY</td>\n",
       "      <td>Lamb_Leanne</td>\n",
       "      <td>School email won't open  and I have geography stuff on there to revise! *Stupid School* :'(</td>\n",
       "    </tr>\n",
       "    <tr>\n",
       "      <th>705995</th>\n",
       "      <td>0</td>\n",
       "      <td>2256550904</td>\n",
       "      <td>Sat Jun 20 12:56:51 PDT 2009</td>\n",
       "      <td>NO_QUERY</td>\n",
       "      <td>yogicerdito</td>\n",
       "      <td>upper airways problem</td>\n",
       "    </tr>\n",
       "  </tbody>\n",
       "</table>\n",
       "</div>"
      ],
      "text/plain": [
       "        polarity          id                          date     query  \\\n",
       "541200  0         2200003196  Tue Jun 16 18:18:12 PDT 2009  NO_QUERY   \n",
       "750     0         1467998485  Mon Apr 06 23:11:14 PDT 2009  NO_QUERY   \n",
       "766711  0         2300048954  Tue Jun 23 13:40:11 PDT 2009  NO_QUERY   \n",
       "285055  0         1993474027  Mon Jun 01 10:26:07 PDT 2009  NO_QUERY   \n",
       "705995  0         2256550904  Sat Jun 20 12:56:51 PDT 2009  NO_QUERY   \n",
       "\n",
       "                   user  \\\n",
       "541200  LaLaLindsey0609   \n",
       "750     sexygrneyes       \n",
       "766711  sammydearr        \n",
       "285055  Lamb_Leanne       \n",
       "705995  yogicerdito       \n",
       "\n",
       "                                                                                                                                             text  \n",
       "541200  @chrishasboobs AHHH I HOPE YOUR OK!!!                                                                                                      \n",
       "750     @misstoriblack cool , i have no tweet apps  for my razr 2                                                                                  \n",
       "766711  @TiannaChaos i know  just family drama. its lame.hey next time u hang out with kim n u guys like have a sleepover or whatever, ill call u  \n",
       "285055  School email won't open  and I have geography stuff on there to revise! *Stupid School* :'(                                                \n",
       "705995  upper airways problem                                                                                                                      "
      ]
     },
     "execution_count": 7,
     "metadata": {},
     "output_type": "execute_result"
    }
   ],
   "source": [
    "sample.head()"
   ]
  },
  {
   "cell_type": "code",
   "execution_count": 9,
   "metadata": {},
   "outputs": [
    {
     "data": {
      "text/plain": [
       "<matplotlib.axes._subplots.AxesSubplot at 0x10d649da0>"
      ]
     },
     "execution_count": 9,
     "metadata": {},
     "output_type": "execute_result"
    },
    {
     "data": {
      "image/png": "[encoded data removed]",
      "text/plain": [
       "<matplotlib.figure.Figure at 0x12843c5f8>"
      ]
     },
     "metadata": {},
     "output_type": "display_data"
    }
   ],
   "source": [
    "pd.crosstab(index = sample[\"polarity\"], columns = \"count\").plot.barh(rot=0)"
   ]
  },
  {
   "cell_type": "markdown",
   "metadata": {},
   "source": [
    "So half of the documents have positive sentiment and half of them negative sentiment."
   ]
  },
  {
   "cell_type": "markdown",
   "metadata": {},
   "source": [
    "### Preprocessing the data\n",
    "Because we want to classify the documents as having a positive or negative sentiment, I'll introduce the variable sentiment,  \n",
    "which is either 1 (positive) or 0 (negative)."
   ]
  },
  {
   "cell_type": "code",
   "execution_count": 10,
   "metadata": {},
   "outputs": [],
   "source": [
    "#ignore all 2* tweets\n",
    "sample = sample[sample['polarity'] != 2]\n",
    "\n",
    "#positive sentiment = 4* tweets\n",
    "sample['sentiment'] = (sample['polarity'] ==4).astype(int)"
   ]
  },
  {
   "cell_type": "code",
   "execution_count": 11,
   "metadata": {},
   "outputs": [
    {
     "data": {
      "text/html": [
       "<div>\n",
       "<style scoped>\n",
       "    .dataframe tbody tr th:only-of-type {\n",
       "        vertical-align: middle;\n",
       "    }\n",
       "\n",
       "    .dataframe tbody tr th {\n",
       "        vertical-align: top;\n",
       "    }\n",
       "\n",
       "    .dataframe thead th {\n",
       "        text-align: right;\n",
       "    }\n",
       "</style>\n",
       "<table border=\"1\" class=\"dataframe\">\n",
       "  <thead>\n",
       "    <tr style=\"text-align: right;\">\n",
       "      <th></th>\n",
       "      <th>polarity</th>\n",
       "      <th>id</th>\n",
       "      <th>date</th>\n",
       "      <th>query</th>\n",
       "      <th>user</th>\n",
       "      <th>text</th>\n",
       "      <th>sentiment</th>\n",
       "    </tr>\n",
       "  </thead>\n",
       "  <tbody>\n",
       "    <tr>\n",
       "      <th>541200</th>\n",
       "      <td>0</td>\n",
       "      <td>2200003196</td>\n",
       "      <td>Tue Jun 16 18:18:12 PDT 2009</td>\n",
       "      <td>NO_QUERY</td>\n",
       "      <td>LaLaLindsey0609</td>\n",
       "      <td>@chrishasboobs AHHH I HOPE YOUR OK!!!</td>\n",
       "      <td>0</td>\n",
       "    </tr>\n",
       "    <tr>\n",
       "      <th>750</th>\n",
       "      <td>0</td>\n",
       "      <td>1467998485</td>\n",
       "      <td>Mon Apr 06 23:11:14 PDT 2009</td>\n",
       "      <td>NO_QUERY</td>\n",
       "      <td>sexygrneyes</td>\n",
       "      <td>@misstoriblack cool , i have no tweet apps  for my razr 2</td>\n",
       "      <td>0</td>\n",
       "    </tr>\n",
       "    <tr>\n",
       "      <th>766711</th>\n",
       "      <td>0</td>\n",
       "      <td>2300048954</td>\n",
       "      <td>Tue Jun 23 13:40:11 PDT 2009</td>\n",
       "      <td>NO_QUERY</td>\n",
       "      <td>sammydearr</td>\n",
       "      <td>@TiannaChaos i know  just family drama. its lame.hey next time u hang out with kim n u guys like have a sleepover or whatever, ill call u</td>\n",
       "      <td>0</td>\n",
       "    </tr>\n",
       "    <tr>\n",
       "      <th>285055</th>\n",
       "      <td>0</td>\n",
       "      <td>1993474027</td>\n",
       "      <td>Mon Jun 01 10:26:07 PDT 2009</td>\n",
       "      <td>NO_QUERY</td>\n",
       "      <td>Lamb_Leanne</td>\n",
       "      <td>School email won't open  and I have geography stuff on there to revise! *Stupid School* :'(</td>\n",
       "      <td>0</td>\n",
       "    </tr>\n",
       "    <tr>\n",
       "      <th>705995</th>\n",
       "      <td>0</td>\n",
       "      <td>2256550904</td>\n",
       "      <td>Sat Jun 20 12:56:51 PDT 2009</td>\n",
       "      <td>NO_QUERY</td>\n",
       "      <td>yogicerdito</td>\n",
       "      <td>upper airways problem</td>\n",
       "      <td>0</td>\n",
       "    </tr>\n",
       "  </tbody>\n",
       "</table>\n",
       "</div>"
      ],
      "text/plain": [
       "        polarity          id                          date     query  \\\n",
       "541200  0         2200003196  Tue Jun 16 18:18:12 PDT 2009  NO_QUERY   \n",
       "750     0         1467998485  Mon Apr 06 23:11:14 PDT 2009  NO_QUERY   \n",
       "766711  0         2300048954  Tue Jun 23 13:40:11 PDT 2009  NO_QUERY   \n",
       "285055  0         1993474027  Mon Jun 01 10:26:07 PDT 2009  NO_QUERY   \n",
       "705995  0         2256550904  Sat Jun 20 12:56:51 PDT 2009  NO_QUERY   \n",
       "\n",
       "                   user  \\\n",
       "541200  LaLaLindsey0609   \n",
       "750     sexygrneyes       \n",
       "766711  sammydearr        \n",
       "285055  Lamb_Leanne       \n",
       "705995  yogicerdito       \n",
       "\n",
       "                                                                                                                                             text  \\\n",
       "541200  @chrishasboobs AHHH I HOPE YOUR OK!!!                                                                                                       \n",
       "750     @misstoriblack cool , i have no tweet apps  for my razr 2                                                                                   \n",
       "766711  @TiannaChaos i know  just family drama. its lame.hey next time u hang out with kim n u guys like have a sleepover or whatever, ill call u   \n",
       "285055  School email won't open  and I have geography stuff on there to revise! *Stupid School* :'(                                                 \n",
       "705995  upper airways problem                                                                                                                       \n",
       "\n",
       "        sentiment  \n",
       "541200  0          \n",
       "750     0          \n",
       "766711  0          \n",
       "285055  0          \n",
       "705995  0          "
      ]
     },
     "execution_count": 11,
     "metadata": {},
     "output_type": "execute_result"
    }
   ],
   "source": [
    "sample.head()"
   ]
  },
  {
   "cell_type": "code",
   "execution_count": 12,
   "metadata": {},
   "outputs": [],
   "source": [
    "def remove_punctuation(text):\n",
    "    import string\n",
    "    map = text.maketrans('', '', string.punctuation)\n",
    "    return text.lower().translate(map) \n",
    "\n",
    "sample['text_clean'] = sample['text'].apply(remove_punctuation)"
   ]
  },
  {
   "cell_type": "code",
   "execution_count": 13,
   "metadata": {},
   "outputs": [
    {
     "data": {
      "text/html": [
       "<div>\n",
       "<style scoped>\n",
       "    .dataframe tbody tr th:only-of-type {\n",
       "        vertical-align: middle;\n",
       "    }\n",
       "\n",
       "    .dataframe tbody tr th {\n",
       "        vertical-align: top;\n",
       "    }\n",
       "\n",
       "    .dataframe thead th {\n",
       "        text-align: right;\n",
       "    }\n",
       "</style>\n",
       "<table border=\"1\" class=\"dataframe\">\n",
       "  <thead>\n",
       "    <tr style=\"text-align: right;\">\n",
       "      <th></th>\n",
       "      <th>polarity</th>\n",
       "      <th>id</th>\n",
       "      <th>date</th>\n",
       "      <th>query</th>\n",
       "      <th>user</th>\n",
       "      <th>text</th>\n",
       "      <th>sentiment</th>\n",
       "      <th>text_clean</th>\n",
       "    </tr>\n",
       "  </thead>\n",
       "  <tbody>\n",
       "    <tr>\n",
       "      <th>541200</th>\n",
       "      <td>0</td>\n",
       "      <td>2200003196</td>\n",
       "      <td>Tue Jun 16 18:18:12 PDT 2009</td>\n",
       "      <td>NO_QUERY</td>\n",
       "      <td>LaLaLindsey0609</td>\n",
       "      <td>@chrishasboobs AHHH I HOPE YOUR OK!!!</td>\n",
       "      <td>0</td>\n",
       "      <td>chrishasboobs ahhh i hope your ok</td>\n",
       "    </tr>\n",
       "    <tr>\n",
       "      <th>750</th>\n",
       "      <td>0</td>\n",
       "      <td>1467998485</td>\n",
       "      <td>Mon Apr 06 23:11:14 PDT 2009</td>\n",
       "      <td>NO_QUERY</td>\n",
       "      <td>sexygrneyes</td>\n",
       "      <td>@misstoriblack cool , i have no tweet apps  for my razr 2</td>\n",
       "      <td>0</td>\n",
       "      <td>misstoriblack cool  i have no tweet apps  for my razr 2</td>\n",
       "    </tr>\n",
       "    <tr>\n",
       "      <th>766711</th>\n",
       "      <td>0</td>\n",
       "      <td>2300048954</td>\n",
       "      <td>Tue Jun 23 13:40:11 PDT 2009</td>\n",
       "      <td>NO_QUERY</td>\n",
       "      <td>sammydearr</td>\n",
       "      <td>@TiannaChaos i know  just family drama. its lame.hey next time u hang out with kim n u guys like have a sleepover or whatever, ill call u</td>\n",
       "      <td>0</td>\n",
       "      <td>tiannachaos i know  just family drama its lamehey next time u hang out with kim n u guys like have a sleepover or whatever ill call u</td>\n",
       "    </tr>\n",
       "    <tr>\n",
       "      <th>285055</th>\n",
       "      <td>0</td>\n",
       "      <td>1993474027</td>\n",
       "      <td>Mon Jun 01 10:26:07 PDT 2009</td>\n",
       "      <td>NO_QUERY</td>\n",
       "      <td>Lamb_Leanne</td>\n",
       "      <td>School email won't open  and I have geography stuff on there to revise! *Stupid School* :'(</td>\n",
       "      <td>0</td>\n",
       "      <td>school email wont open  and i have geography stuff on there to revise stupid school</td>\n",
       "    </tr>\n",
       "    <tr>\n",
       "      <th>705995</th>\n",
       "      <td>0</td>\n",
       "      <td>2256550904</td>\n",
       "      <td>Sat Jun 20 12:56:51 PDT 2009</td>\n",
       "      <td>NO_QUERY</td>\n",
       "      <td>yogicerdito</td>\n",
       "      <td>upper airways problem</td>\n",
       "      <td>0</td>\n",
       "      <td>upper airways problem</td>\n",
       "    </tr>\n",
       "  </tbody>\n",
       "</table>\n",
       "</div>"
      ],
      "text/plain": [
       "        polarity          id                          date     query  \\\n",
       "541200  0         2200003196  Tue Jun 16 18:18:12 PDT 2009  NO_QUERY   \n",
       "750     0         1467998485  Mon Apr 06 23:11:14 PDT 2009  NO_QUERY   \n",
       "766711  0         2300048954  Tue Jun 23 13:40:11 PDT 2009  NO_QUERY   \n",
       "285055  0         1993474027  Mon Jun 01 10:26:07 PDT 2009  NO_QUERY   \n",
       "705995  0         2256550904  Sat Jun 20 12:56:51 PDT 2009  NO_QUERY   \n",
       "\n",
       "                   user  \\\n",
       "541200  LaLaLindsey0609   \n",
       "750     sexygrneyes       \n",
       "766711  sammydearr        \n",
       "285055  Lamb_Leanne       \n",
       "705995  yogicerdito       \n",
       "\n",
       "                                                                                                                                             text  \\\n",
       "541200  @chrishasboobs AHHH I HOPE YOUR OK!!!                                                                                                       \n",
       "750     @misstoriblack cool , i have no tweet apps  for my razr 2                                                                                   \n",
       "766711  @TiannaChaos i know  just family drama. its lame.hey next time u hang out with kim n u guys like have a sleepover or whatever, ill call u   \n",
       "285055  School email won't open  and I have geography stuff on there to revise! *Stupid School* :'(                                                 \n",
       "705995  upper airways problem                                                                                                                       \n",
       "\n",
       "        sentiment  \\\n",
       "541200  0           \n",
       "750     0           \n",
       "766711  0           \n",
       "285055  0           \n",
       "705995  0           \n",
       "\n",
       "                                                                                                                                   text_clean  \n",
       "541200  chrishasboobs ahhh i hope your ok                                                                                                      \n",
       "750     misstoriblack cool  i have no tweet apps  for my razr 2                                                                                \n",
       "766711  tiannachaos i know  just family drama its lamehey next time u hang out with kim n u guys like have a sleepover or whatever ill call u  \n",
       "285055  school email wont open  and i have geography stuff on there to revise stupid school                                                    \n",
       "705995  upper airways problem                                                                                                                  "
      ]
     },
     "execution_count": 13,
     "metadata": {},
     "output_type": "execute_result"
    }
   ],
   "source": [
    "sample.head()"
   ]
  },
  {
   "cell_type": "code",
   "execution_count": 14,
   "metadata": {},
   "outputs": [
    {
     "data": {
      "text/plain": [
       "'chrishasboobs ahhh i hope your ok '"
      ]
     },
     "execution_count": 14,
     "metadata": {},
     "output_type": "execute_result"
    }
   ],
   "source": [
    "sample['text_clean'].iloc[0]"
   ]
  },
  {
   "cell_type": "markdown",
   "metadata": {},
   "source": [
    "### Split sample in train & validation set"
   ]
  },
  {
   "cell_type": "code",
   "execution_count": 15,
   "metadata": {},
   "outputs": [],
   "source": [
    "from sklearn.model_selection import train_test_split\n",
    "\n",
    "train, val = train_test_split(sample, test_size=0.2, random_state=42)"
   ]
  },
  {
   "cell_type": "code",
   "execution_count": 16,
   "metadata": {},
   "outputs": [
    {
     "data": {
      "text/html": [
       "<div>\n",
       "<style scoped>\n",
       "    .dataframe tbody tr th:only-of-type {\n",
       "        vertical-align: middle;\n",
       "    }\n",
       "\n",
       "    .dataframe tbody tr th {\n",
       "        vertical-align: top;\n",
       "    }\n",
       "\n",
       "    .dataframe thead th {\n",
       "        text-align: right;\n",
       "    }\n",
       "</style>\n",
       "<table border=\"1\" class=\"dataframe\">\n",
       "  <thead>\n",
       "    <tr style=\"text-align: right;\">\n",
       "      <th></th>\n",
       "      <th>polarity</th>\n",
       "      <th>id</th>\n",
       "      <th>date</th>\n",
       "      <th>query</th>\n",
       "      <th>user</th>\n",
       "      <th>text</th>\n",
       "      <th>sentiment</th>\n",
       "      <th>text_clean</th>\n",
       "    </tr>\n",
       "  </thead>\n",
       "  <tbody>\n",
       "    <tr>\n",
       "      <th>510880</th>\n",
       "      <td>0</td>\n",
       "      <td>2189760229</td>\n",
       "      <td>Tue Jun 16 00:50:14 PDT 2009</td>\n",
       "      <td>NO_QUERY</td>\n",
       "      <td>paula_sixtheden</td>\n",
       "      <td>I'm in the UST library with Carla... Cool. HAHA! I miss the south</td>\n",
       "      <td>0</td>\n",
       "      <td>im in the ust library with carla cool haha i miss the south</td>\n",
       "    </tr>\n",
       "    <tr>\n",
       "      <th>1513232</th>\n",
       "      <td>4</td>\n",
       "      <td>2175327003</td>\n",
       "      <td>Mon Jun 15 00:40:47 PDT 2009</td>\n",
       "      <td>NO_QUERY</td>\n",
       "      <td>Hossguy</td>\n",
       "      <td>New followers put a smile on my face.</td>\n",
       "      <td>1</td>\n",
       "      <td>new followers put a smile on my face</td>\n",
       "    </tr>\n",
       "    <tr>\n",
       "      <th>674018</th>\n",
       "      <td>0</td>\n",
       "      <td>2247664809</td>\n",
       "      <td>Fri Jun 19 19:26:17 PDT 2009</td>\n",
       "      <td>NO_QUERY</td>\n",
       "      <td>brendanbenson</td>\n",
       "      <td>First week of work is done! Had a great time at the track tonight with @nickconsole as my madison partner. Rain cut it short though.</td>\n",
       "      <td>0</td>\n",
       "      <td>first week of work is done had a great time at the track tonight with nickconsole as my madison partner rain cut it short though</td>\n",
       "    </tr>\n",
       "    <tr>\n",
       "      <th>1537476</th>\n",
       "      <td>4</td>\n",
       "      <td>2179628403</td>\n",
       "      <td>Mon Jun 15 09:21:53 PDT 2009</td>\n",
       "      <td>NO_QUERY</td>\n",
       "      <td>writerpen123</td>\n",
       "      <td>Just finished eating some cinnamin toast crunch for breakfast now i am listening to adam lamberts no boundaries!</td>\n",
       "      <td>1</td>\n",
       "      <td>just finished eating some cinnamin toast crunch for breakfast now i am listening to adam lamberts no boundaries</td>\n",
       "    </tr>\n",
       "    <tr>\n",
       "      <th>690755</th>\n",
       "      <td>0</td>\n",
       "      <td>2252089992</td>\n",
       "      <td>Sat Jun 20 05:25:38 PDT 2009</td>\n",
       "      <td>NO_QUERY</td>\n",
       "      <td>spanky_leebo</td>\n",
       "      <td>fuckin hungover 2 fuck</td>\n",
       "      <td>0</td>\n",
       "      <td>fuckin hungover 2 fuck</td>\n",
       "    </tr>\n",
       "  </tbody>\n",
       "</table>\n",
       "</div>"
      ],
      "text/plain": [
       "         polarity          id                          date     query  \\\n",
       "510880   0         2189760229  Tue Jun 16 00:50:14 PDT 2009  NO_QUERY   \n",
       "1513232  4         2175327003  Mon Jun 15 00:40:47 PDT 2009  NO_QUERY   \n",
       "674018   0         2247664809  Fri Jun 19 19:26:17 PDT 2009  NO_QUERY   \n",
       "1537476  4         2179628403  Mon Jun 15 09:21:53 PDT 2009  NO_QUERY   \n",
       "690755   0         2252089992  Sat Jun 20 05:25:38 PDT 2009  NO_QUERY   \n",
       "\n",
       "                    user  \\\n",
       "510880   paula_sixtheden   \n",
       "1513232  Hossguy           \n",
       "674018   brendanbenson     \n",
       "1537476  writerpen123      \n",
       "690755   spanky_leebo      \n",
       "\n",
       "                                                                                                                                          text  \\\n",
       "510880   I'm in the UST library with Carla... Cool. HAHA! I miss the south                                                                       \n",
       "1513232  New followers put a smile on my face.                                                                                                   \n",
       "674018   First week of work is done! Had a great time at the track tonight with @nickconsole as my madison partner. Rain cut it short though.    \n",
       "1537476  Just finished eating some cinnamin toast crunch for breakfast now i am listening to adam lamberts no boundaries!                        \n",
       "690755   fuckin hungover 2 fuck                                                                                                                  \n",
       "\n",
       "         sentiment  \\\n",
       "510880   0           \n",
       "1513232  1           \n",
       "674018   0           \n",
       "1537476  1           \n",
       "690755   0           \n",
       "\n",
       "                                                                                                                                text_clean  \n",
       "510880   im in the ust library with carla cool haha i miss the south                                                                        \n",
       "1513232  new followers put a smile on my face                                                                                               \n",
       "674018   first week of work is done had a great time at the track tonight with nickconsole as my madison partner rain cut it short though   \n",
       "1537476  just finished eating some cinnamin toast crunch for breakfast now i am listening to adam lamberts no boundaries                    \n",
       "690755   fuckin hungover 2 fuck                                                                                                             "
      ]
     },
     "execution_count": 16,
     "metadata": {},
     "output_type": "execute_result"
    }
   ],
   "source": [
    "train.head()"
   ]
  },
  {
   "cell_type": "markdown",
   "metadata": {},
   "source": [
    "### Bag-of-words model\n",
    "With \"count vectorizer\", we merely count the appearance of the words in each tweet text. Since most words occur in only a few tweets, word count vectors are sparse. For this reason, scikit-learn and many other tools use sparse matrices to store a collection of word count vectors."
   ]
  },
  {
   "cell_type": "code",
   "execution_count": 17,
   "metadata": {},
   "outputs": [],
   "source": [
    "from sklearn.feature_extraction.text import CountVectorizer\n",
    "\n",
    "vectorizer = CountVectorizer(token_pattern=r'\\b\\w+\\b') # This token pattern keeps single-letter words\n",
    "train_matrix = vectorizer.fit_transform(train['text_clean'])\n",
    "val_matrix = vectorizer.transform(val['text_clean'])"
   ]
  },
  {
   "cell_type": "markdown",
   "metadata": {},
   "source": [
    "### Using a Decision Tree classifier"
   ]
  },
  {
   "cell_type": "code",
   "execution_count": 18,
   "metadata": {},
   "outputs": [],
   "source": [
    "from sklearn import tree\n",
    "\n",
    "clf = tree.DecisionTreeClassifier()\n",
    "clf = clf.fit(train_matrix, train['sentiment'])"
   ]
  },
  {
   "cell_type": "code",
   "execution_count": 20,
   "metadata": {},
   "outputs": [
    {
     "name": "stdout",
     "output_type": "stream",
     "text": [
      "correct_num: 22590, total_num: 32000\n",
      "accuracy: 0.706\n"
     ]
    }
   ],
   "source": [
    "pred_tree = clf.predict(val_matrix)\n",
    "correct_num = np.sum(pred_tree == val['sentiment'])\n",
    "total_num = len(val['sentiment'])\n",
    "print(\"correct_num: {}, total_num: {}\".format(correct_num, total_num))\n",
    "accuracy = correct_num / total_num\n",
    "print(\"accuracy: %0.3f\" % accuracy)"
   ]
  },
  {
   "cell_type": "markdown",
   "metadata": {},
   "source": [
    "Let's see if we can do better:\n",
    "### Using a Logistic Regression classifier"
   ]
  },
  {
   "cell_type": "code",
   "execution_count": 21,
   "metadata": {},
   "outputs": [
    {
     "data": {
      "text/plain": [
       "LogisticRegression(C=1.0, class_weight=None, dual=False, fit_intercept=True,\n",
       "          intercept_scaling=1, max_iter=100, multi_class='ovr', n_jobs=1,\n",
       "          penalty='l2', random_state=None, solver='liblinear', tol=0.0001,\n",
       "          verbose=0, warm_start=False)"
      ]
     },
     "execution_count": 21,
     "metadata": {},
     "output_type": "execute_result"
    }
   ],
   "source": [
    "from sklearn.linear_model import LogisticRegression\n",
    "\n",
    "sentiment_model = LogisticRegression()\n",
    "sentiment_model.fit(train_matrix, train['sentiment'])"
   ]
  },
  {
   "cell_type": "code",
   "execution_count": 22,
   "metadata": {},
   "outputs": [
    {
     "name": "stdout",
     "output_type": "stream",
     "text": [
      "correct_num: 25091, total_num: 32000\n",
      "accuracy: 0.784\n"
     ]
    }
   ],
   "source": [
    "pred_lr = sentiment_model.predict(val_matrix)\n",
    "correct_num = np.sum(pred_lr == val['sentiment'])\n",
    "total_num = len(val['sentiment'])\n",
    "print(\"correct_num: {}, total_num: {}\".format(correct_num, total_num))\n",
    "accuracy = correct_num / total_num\n",
    "print(\"accuracy: %0.3f\" % accuracy)"
   ]
  },
  {
   "cell_type": "markdown",
   "metadata": {},
   "source": [
    "### Using a bigger sample"
   ]
  },
  {
   "cell_type": "code",
   "execution_count": 23,
   "metadata": {},
   "outputs": [],
   "source": [
    "sample2 = data.sample(frac=0.25, replace=False, random_state=42)\n",
    "sample2 = sample2[sample2['polarity'] != 2]\n",
    "sample2['sentiment'] = (sample2['polarity'] ==4).astype(int)\n",
    "sample2['text_clean'] = sample2['text'].apply(remove_punctuation)\n",
    "train2, val2 = train_test_split(sample2, test_size=0.1, random_state=42)\n",
    "train2_matrix = vectorizer.fit_transform(train2['text_clean'])\n",
    "val2_matrix = vectorizer.transform(val2['text_clean'])"
   ]
  },
  {
   "cell_type": "code",
   "execution_count": 24,
   "metadata": {},
   "outputs": [
    {
     "data": {
      "text/plain": [
       "LogisticRegression(C=1.0, class_weight=None, dual=False, fit_intercept=True,\n",
       "          intercept_scaling=1, max_iter=100, multi_class='ovr', n_jobs=1,\n",
       "          penalty='l2', random_state=None, solver='liblinear', tol=0.0001,\n",
       "          verbose=0, warm_start=False)"
      ]
     },
     "execution_count": 24,
     "metadata": {},
     "output_type": "execute_result"
    }
   ],
   "source": [
    "sentiment_model.fit(train2_matrix, train2['sentiment'])"
   ]
  },
  {
   "cell_type": "code",
   "execution_count": 25,
   "metadata": {},
   "outputs": [
    {
     "name": "stdout",
     "output_type": "stream",
     "text": [
      "correct_num: 31627, total_num: 40000\n",
      "accuracy: 0.791\n"
     ]
    }
   ],
   "source": [
    "pred_lr = sentiment_model.predict(val2_matrix)\n",
    "correct_num = np.sum(pred_lr == val2['sentiment'])\n",
    "total_num = len(val2['sentiment'])\n",
    "print(\"correct_num: {}, total_num: {}\".format(correct_num, total_num))\n",
    "accuracy = correct_num / total_num\n",
    "print(\"accuracy: %0.3f\" % accuracy)"
   ]
  },
  {
   "cell_type": "markdown",
   "metadata": {},
   "source": [
    "A little better. Let's look at the ROC-curve:"
   ]
  },
  {
   "cell_type": "code",
   "execution_count": 26,
   "metadata": {},
   "outputs": [
    {
     "data": {
      "text/plain": [
       "<matplotlib.legend.Legend at 0x1a3fe852b0>"
      ]
     },
     "execution_count": 26,
     "metadata": {},
     "output_type": "execute_result"
    },
    {
     "data": {
      "image/png": "[encoded data removed]",
      "text/plain": [
       "<matplotlib.figure.Figure at 0x12843cbe0>"
      ]
     },
     "metadata": {},
     "output_type": "display_data"
    }
   ],
   "source": [
    "from sklearn.metrics import roc_curve, auc\n",
    "import matplotlib.pyplot as plt\n",
    "\n",
    "prob_lr = sentiment_model.predict_proba(val2_matrix)\n",
    "fpr, tpr, thresholds = roc_curve(val2['sentiment'], prob_lr[:, 1])\n",
    "\n",
    "plt.plot(fpr, tpr, label='AUC = %0.2f' % auc(fpr, tpr))\n",
    "plt.plot([0, 1], [0, 1], linestyle='--')\n",
    "plt.xlabel('False Positive Rate')\n",
    "plt.ylabel('True Positive Rate')\n",
    "plt.title('ROC-curve')\n",
    "plt.legend(loc=\"lower right\")"
   ]
  },
  {
   "cell_type": "code",
   "execution_count": 27,
   "metadata": {},
   "outputs": [
    {
     "name": "stdout",
     "output_type": "stream",
     "text": [
      "Number of positive weights: 160621 \n",
      "Number of negative weights: 127494 \n"
     ]
    }
   ],
   "source": [
    "coef = sentiment_model.coef_\n",
    "\n",
    "positive_weights = coef[coef >= 0]\n",
    "negative_weights = coef[coef < 0]\n",
    "num_positive_weights = len(positive_weights)\n",
    "num_negative_weights = len(negative_weights)\n",
    "\n",
    "print(\"Number of positive weights: %s \" % num_positive_weights)\n",
    "print(\"Number of negative weights: %s \" % num_negative_weights)"
   ]
  },
  {
   "cell_type": "code",
   "execution_count": 29,
   "metadata": {},
   "outputs": [],
   "source": [
    "import pickle\n",
    "\n",
    "# save the model to disk\n",
    "filename = 'models/sentiment_model.sav'\n",
    "pickle.dump(sentiment_model, open(filename, 'wb'))"
   ]
  },
  {
   "cell_type": "markdown",
   "metadata": {},
   "source": [
    "### Evaluate on test data"
   ]
  },
  {
   "cell_type": "code",
   "execution_count": 30,
   "metadata": {},
   "outputs": [],
   "source": [
    "test_data = pd.read_csv(\"trainingandtestdata/testdata.manual.2009.06.14.csv\", encoding=\"latin1\", names=colnames)"
   ]
  },
  {
   "cell_type": "code",
   "execution_count": 31,
   "metadata": {},
   "outputs": [
    {
     "data": {
      "text/plain": [
       "498"
      ]
     },
     "execution_count": 31,
     "metadata": {},
     "output_type": "execute_result"
    }
   ],
   "source": [
    "len(test_data)"
   ]
  },
  {
   "cell_type": "code",
   "execution_count": 32,
   "metadata": {},
   "outputs": [
    {
     "data": {
      "text/html": [
       "<div>\n",
       "<style scoped>\n",
       "    .dataframe tbody tr th:only-of-type {\n",
       "        vertical-align: middle;\n",
       "    }\n",
       "\n",
       "    .dataframe tbody tr th {\n",
       "        vertical-align: top;\n",
       "    }\n",
       "\n",
       "    .dataframe thead th {\n",
       "        text-align: right;\n",
       "    }\n",
       "</style>\n",
       "<table border=\"1\" class=\"dataframe\">\n",
       "  <thead>\n",
       "    <tr style=\"text-align: right;\">\n",
       "      <th></th>\n",
       "      <th>polarity</th>\n",
       "      <th>id</th>\n",
       "      <th>date</th>\n",
       "      <th>query</th>\n",
       "      <th>user</th>\n",
       "      <th>text</th>\n",
       "    </tr>\n",
       "  </thead>\n",
       "  <tbody>\n",
       "    <tr>\n",
       "      <th>0</th>\n",
       "      <td>4</td>\n",
       "      <td>3</td>\n",
       "      <td>Mon May 11 03:17:40 UTC 2009</td>\n",
       "      <td>kindle2</td>\n",
       "      <td>tpryan</td>\n",
       "      <td>@stellargirl I loooooooovvvvvveee my Kindle2. Not that the DX is cool, but the 2 is fantastic in its own right.</td>\n",
       "    </tr>\n",
       "    <tr>\n",
       "      <th>1</th>\n",
       "      <td>4</td>\n",
       "      <td>4</td>\n",
       "      <td>Mon May 11 03:18:03 UTC 2009</td>\n",
       "      <td>kindle2</td>\n",
       "      <td>vcu451</td>\n",
       "      <td>Reading my kindle2...  Love it... Lee childs is good read.</td>\n",
       "    </tr>\n",
       "    <tr>\n",
       "      <th>2</th>\n",
       "      <td>4</td>\n",
       "      <td>5</td>\n",
       "      <td>Mon May 11 03:18:54 UTC 2009</td>\n",
       "      <td>kindle2</td>\n",
       "      <td>chadfu</td>\n",
       "      <td>Ok, first assesment of the #kindle2 ...it fucking rocks!!!</td>\n",
       "    </tr>\n",
       "    <tr>\n",
       "      <th>3</th>\n",
       "      <td>4</td>\n",
       "      <td>6</td>\n",
       "      <td>Mon May 11 03:19:04 UTC 2009</td>\n",
       "      <td>kindle2</td>\n",
       "      <td>SIX15</td>\n",
       "      <td>@kenburbary You'll love your Kindle2. I've had mine for a few months and never looked back. The new big one is huge! No need for remorse! :)</td>\n",
       "    </tr>\n",
       "    <tr>\n",
       "      <th>4</th>\n",
       "      <td>4</td>\n",
       "      <td>7</td>\n",
       "      <td>Mon May 11 03:21:41 UTC 2009</td>\n",
       "      <td>kindle2</td>\n",
       "      <td>yamarama</td>\n",
       "      <td>@mikefish  Fair enough. But i have the Kindle2 and I think it's perfect  :)</td>\n",
       "    </tr>\n",
       "  </tbody>\n",
       "</table>\n",
       "</div>"
      ],
      "text/plain": [
       "   polarity  id                          date    query      user  \\\n",
       "0  4         3   Mon May 11 03:17:40 UTC 2009  kindle2  tpryan     \n",
       "1  4         4   Mon May 11 03:18:03 UTC 2009  kindle2  vcu451     \n",
       "2  4         5   Mon May 11 03:18:54 UTC 2009  kindle2  chadfu     \n",
       "3  4         6   Mon May 11 03:19:04 UTC 2009  kindle2  SIX15      \n",
       "4  4         7   Mon May 11 03:21:41 UTC 2009  kindle2  yamarama   \n",
       "\n",
       "                                                                                                                                           text  \n",
       "0  @stellargirl I loooooooovvvvvveee my Kindle2. Not that the DX is cool, but the 2 is fantastic in its own right.                               \n",
       "1  Reading my kindle2...  Love it... Lee childs is good read.                                                                                    \n",
       "2  Ok, first assesment of the #kindle2 ...it fucking rocks!!!                                                                                    \n",
       "3  @kenburbary You'll love your Kindle2. I've had mine for a few months and never looked back. The new big one is huge! No need for remorse! :)  \n",
       "4  @mikefish  Fair enough. But i have the Kindle2 and I think it's perfect  :)                                                                   "
      ]
     },
     "execution_count": 32,
     "metadata": {},
     "output_type": "execute_result"
    }
   ],
   "source": [
    "test_data.head()"
   ]
  },
  {
   "cell_type": "code",
   "execution_count": 33,
   "metadata": {},
   "outputs": [
    {
     "name": "stdout",
     "output_type": "stream",
     "text": [
      "correct_num: 286, total_num: 359\n",
      "accuracy on test set: 0.80\n"
     ]
    }
   ],
   "source": [
    "test_data = test_data[test_data['polarity'] != 2]\n",
    "test_data['sentiment'] = (test_data['polarity'] ==4).astype(int)\n",
    "test_data['text_clean'] = test_data['text'].apply(remove_punctuation)\n",
    "test_matrix = vectorizer.transform(test_data['text_clean'])\n",
    "\n",
    "pred_lr_test = sentiment_model.predict(test_matrix)\n",
    "correct_num = np.sum(pred_lr_test == test_data['sentiment'])\n",
    "total_num = len(test_data['sentiment'])\n",
    "print(\"correct_num: {}, total_num: {}\".format(correct_num, total_num))\n",
    "accuracy = correct_num / total_num\n",
    "print(\"accuracy on test set: %0.2f\" % accuracy)"
   ]
  },
  {
   "cell_type": "markdown",
   "metadata": {},
   "source": [
    "### Analysing Tweets containing the word Trump"
   ]
  },
  {
   "cell_type": "code",
   "execution_count": 53,
   "metadata": {},
   "outputs": [],
   "source": [
    "import tweepy\n",
    "from tweepy import OAuthHandler\n",
    " \n",
    "consumer_key = 'XXX'\n",
    "consumer_secret = '***'\n",
    "access_token = 'XXX'\n",
    "access_secret = '***'\n",
    " \n",
    "auth = OAuthHandler(consumer_key, consumer_secret)\n",
    "auth.set_access_token(access_token, access_secret)\n",
    " \n",
    "api = tweepy.API(auth)"
   ]
  },
  {
   "cell_type": "code",
   "execution_count": 54,
   "metadata": {},
   "outputs": [],
   "source": [
    "query = \"Trump\"\n",
    "language = \"en\"\n",
    "results = []\n",
    "\n",
    "for tweet in tweepy.Cursor(api.search, q=query, lang=language).items(500):\n",
    "    results.append(tweet)"
   ]
  },
  {
   "cell_type": "code",
   "execution_count": 60,
   "metadata": {},
   "outputs": [],
   "source": [
    "# save the tweets to disk\n",
    "file = open('tweets/tweets_Trump.csv', 'w')\n",
    "for tweet in results:\n",
    "    file.write(\"%s\\n\" % tweet)"
   ]
  },
  {
   "cell_type": "code",
   "execution_count": 55,
   "metadata": {},
   "outputs": [
    {
     "data": {
      "text/plain": [
       "500"
      ]
     },
     "execution_count": 55,
     "metadata": {},
     "output_type": "execute_result"
    }
   ],
   "source": [
    "len(results)"
   ]
  },
  {
   "cell_type": "code",
   "execution_count": 56,
   "metadata": {},
   "outputs": [
    {
     "name": "stdout",
     "output_type": "stream",
     "text": [
      "Psychotron7x2 Tweeted: @SteveSchmidtSES @JuddApatow Abandon a Trump supporter from your life. Show them how it feels.\n",
      "troutldy1 Tweeted: RT @olgaNYC1211: They are all Trumps longtime connections. Trump has been dealing w very powerful Russian Mobsters, Kremlin officials, and…\n",
      "MonicaVoss4 Tweeted: RT @dumptrump33: To all those who said Hillary Clinton was more dangerous than Donald Trump, you can collectively go fuck yourselves. The T…\n",
      "jwnoname Tweeted: RT @RealCandaceO: In no way do I endorse Farrakhan’s views but holy crap this is a really big deal.\n",
      "He has just aligned himself with Trump’…\n",
      "MohamedHawary Tweeted: RT @WSJ: Macron says Trump likely scrapped the Iran deal 'because it was signed by his predecessor, hence bad by the definition' https://t.…\n"
     ]
    }
   ],
   "source": [
    "for tweet in results[0:5]:\n",
    "    print(tweet.user.screen_name,\"Tweeted:\",tweet.text)"
   ]
  },
  {
   "cell_type": "code",
   "execution_count": 85,
   "metadata": {},
   "outputs": [],
   "source": [
    "def toDataFrame(tweets):\n",
    "\n",
    "    DataSet = pd.DataFrame()\n",
    "\n",
    "    DataSet['tweetText'] = [tweet.text for tweet in tweets]\n",
    "    DataSet['tweetRetweetCt'] = [tweet.retweet_count for tweet in tweets]\n",
    "    DataSet['tweetSource'] = [tweet.source for tweet in tweets]\n",
    "    DataSet['tweetCreated'] = [tweet.created_at for tweet in tweets]\n",
    "    DataSet['userScreen'] = [tweet.user.screen_name for tweet in tweets]\n",
    "    DataSet['userName'] = [tweet.user.name for tweet in tweets]\n",
    "\n",
    "    return DataSet\n",
    "\n",
    "DataSet = toDataFrame(results)"
   ]
  },
  {
   "cell_type": "code",
   "execution_count": 86,
   "metadata": {},
   "outputs": [
    {
     "data": {
      "text/html": [
       "<div>\n",
       "<style scoped>\n",
       "    .dataframe tbody tr th:only-of-type {\n",
       "        vertical-align: middle;\n",
       "    }\n",
       "\n",
       "    .dataframe tbody tr th {\n",
       "        vertical-align: top;\n",
       "    }\n",
       "\n",
       "    .dataframe thead th {\n",
       "        text-align: right;\n",
       "    }\n",
       "</style>\n",
       "<table border=\"1\" class=\"dataframe\">\n",
       "  <thead>\n",
       "    <tr style=\"text-align: right;\">\n",
       "      <th></th>\n",
       "      <th>tweetText</th>\n",
       "      <th>tweetRetweetCt</th>\n",
       "      <th>tweetSource</th>\n",
       "      <th>tweetCreated</th>\n",
       "      <th>userScreen</th>\n",
       "      <th>userName</th>\n",
       "    </tr>\n",
       "  </thead>\n",
       "  <tbody>\n",
       "    <tr>\n",
       "      <th>0</th>\n",
       "      <td>@SteveSchmidtSES @JuddApatow Abandon a Trump supporter from your life. Show them how it feels.</td>\n",
       "      <td>0</td>\n",
       "      <td>Twitter for iPhone</td>\n",
       "      <td>2018-05-26 17:22:45</td>\n",
       "      <td>Psychotron7x2</td>\n",
       "      <td>Adam</td>\n",
       "    </tr>\n",
       "    <tr>\n",
       "      <th>1</th>\n",
       "      <td>RT @olgaNYC1211: They are all Trumps longtime connections. Trump has been dealing w very powerful Russian Mobsters, Kremlin officials, and…</td>\n",
       "      <td>100</td>\n",
       "      <td>Twitter for iPhone</td>\n",
       "      <td>2018-05-26 17:22:45</td>\n",
       "      <td>troutldy1</td>\n",
       "      <td>Lynn Pless</td>\n",
       "    </tr>\n",
       "    <tr>\n",
       "      <th>2</th>\n",
       "      <td>RT @dumptrump33: To all those who said Hillary Clinton was more dangerous than Donald Trump, you can collectively go fuck yourselves. The T…</td>\n",
       "      <td>381</td>\n",
       "      <td>Twitter for Android</td>\n",
       "      <td>2018-05-26 17:22:44</td>\n",
       "      <td>MonicaVoss4</td>\n",
       "      <td>MG Mom</td>\n",
       "    </tr>\n",
       "    <tr>\n",
       "      <th>3</th>\n",
       "      <td>RT @RealCandaceO: In no way do I endorse Farrakhan’s views but holy crap this is a really big deal.\\nHe has just aligned himself with Trump’…</td>\n",
       "      <td>6750</td>\n",
       "      <td>Twitter for iPad</td>\n",
       "      <td>2018-05-26 17:22:44</td>\n",
       "      <td>jwnoname</td>\n",
       "      <td>J W at the beach</td>\n",
       "    </tr>\n",
       "    <tr>\n",
       "      <th>4</th>\n",
       "      <td>RT @WSJ: Macron says Trump likely scrapped the Iran deal 'because it was signed by his predecessor, hence bad by the definition' https://t.…</td>\n",
       "      <td>169</td>\n",
       "      <td>Twitter for iPhone</td>\n",
       "      <td>2018-05-26 17:22:44</td>\n",
       "      <td>MohamedHawary</td>\n",
       "      <td>Mohamed Hawary</td>\n",
       "    </tr>\n",
       "  </tbody>\n",
       "</table>\n",
       "</div>"
      ],
      "text/plain": [
       "                                                                                                                                       tweetText  \\\n",
       "0  @SteveSchmidtSES @JuddApatow Abandon a Trump supporter from your life. Show them how it feels.                                                  \n",
       "1  RT @olgaNYC1211: They are all Trumps longtime connections. Trump has been dealing w very powerful Russian Mobsters, Kremlin officials, and…     \n",
       "2  RT @dumptrump33: To all those who said Hillary Clinton was more dangerous than Donald Trump, you can collectively go fuck yourselves. The T…    \n",
       "3  RT @RealCandaceO: In no way do I endorse Farrakhan’s views but holy crap this is a really big deal.\\nHe has just aligned himself with Trump’…   \n",
       "4  RT @WSJ: Macron says Trump likely scrapped the Iran deal 'because it was signed by his predecessor, hence bad by the definition' https://t.…    \n",
       "\n",
       "   tweetRetweetCt          tweetSource        tweetCreated     userScreen  \\\n",
       "0  0               Twitter for iPhone  2018-05-26 17:22:45  Psychotron7x2   \n",
       "1  100             Twitter for iPhone  2018-05-26 17:22:45  troutldy1       \n",
       "2  381             Twitter for Android 2018-05-26 17:22:44  MonicaVoss4     \n",
       "3  6750            Twitter for iPad    2018-05-26 17:22:44  jwnoname        \n",
       "4  169             Twitter for iPhone  2018-05-26 17:22:44  MohamedHawary   \n",
       "\n",
       "           userName  \n",
       "0  Adam              \n",
       "1  Lynn Pless        \n",
       "2  MG Mom            \n",
       "3  J W at the beach  \n",
       "4  Mohamed Hawary    "
      ]
     },
     "execution_count": 86,
     "metadata": {},
     "output_type": "execute_result"
    }
   ],
   "source": [
    "DataSet.head()"
   ]
  },
  {
   "cell_type": "markdown",
   "metadata": {},
   "source": [
    "### Predicting the sentiment for the Trump tweets"
   ]
  },
  {
   "cell_type": "code",
   "execution_count": 63,
   "metadata": {},
   "outputs": [],
   "source": [
    "DataSet['text_clean'] = DataSet['tweetText'].apply(remove_punctuation)\n",
    "DataSet_matrix = vectorizer.transform(DataSet['text_clean'])\n",
    "Predictions = sentiment_model.predict_proba(DataSet_matrix)"
   ]
  },
  {
   "cell_type": "code",
   "execution_count": 64,
   "metadata": {},
   "outputs": [],
   "source": [
    "DataSet['prediction'] = Predictions[:, 1]"
   ]
  },
  {
   "cell_type": "code",
   "execution_count": 65,
   "metadata": {},
   "outputs": [],
   "source": [
    "DataSet_sorted = DataSet.sort_values('prediction', ascending=False)"
   ]
  },
  {
   "cell_type": "code",
   "execution_count": 78,
   "metadata": {},
   "outputs": [
    {
     "data": {
      "text/html": [
       "<div>\n",
       "<style scoped>\n",
       "    .dataframe tbody tr th:only-of-type {\n",
       "        vertical-align: middle;\n",
       "    }\n",
       "\n",
       "    .dataframe tbody tr th {\n",
       "        vertical-align: top;\n",
       "    }\n",
       "\n",
       "    .dataframe thead th {\n",
       "        text-align: right;\n",
       "    }\n",
       "</style>\n",
       "<table border=\"1\" class=\"dataframe\">\n",
       "  <thead>\n",
       "    <tr style=\"text-align: right;\">\n",
       "      <th></th>\n",
       "      <th>tweetText</th>\n",
       "      <th>prediction</th>\n",
       "    </tr>\n",
       "  </thead>\n",
       "  <tbody>\n",
       "    <tr>\n",
       "      <th>14</th>\n",
       "      <td>RT @ManInTheHoody: trump is like hitler\\n\\ntrump is like hitler\\n\\ntrump is like hitler\\n\\ntrump is like hitler\\n\\ntrump is like hitler\\n\\ntrump is l…</td>\n",
       "      <td>0.999591</td>\n",
       "    </tr>\n",
       "    <tr>\n",
       "      <th>33</th>\n",
       "      <td>RT @EdKrassen: There could be video evidence of Vladimir Putin at Trump Tower, personally delivering voting machines to Donald Trump, and t…</td>\n",
       "      <td>0.996439</td>\n",
       "    </tr>\n",
       "    <tr>\n",
       "      <th>411</th>\n",
       "      <td>RT @KevinSussman: Trump team: “Colluding with Russia to swing an election isn’t technically a crime so it’s fine.”\\n\\nAlso Trump team: “Kneel…</td>\n",
       "      <td>0.996184</td>\n",
       "    </tr>\n",
       "    <tr>\n",
       "      <th>76</th>\n",
       "      <td>RT @C_3C_3: SWAMP PANIC:\\n\\nObama: 5/25/10\\nTrump:  5/25/18\\n\\nObama: Approval: 42% \\nTrump:  Approval: 49%  \\n\\nObama: Media Coverage: 95% POSITIV…</td>\n",
       "      <td>0.995454</td>\n",
       "    </tr>\n",
       "    <tr>\n",
       "      <th>416</th>\n",
       "      <td>RT @Fuctupmind: \"Let’s just lay it out really simple for the liberals and the media - the FBI had a person that was getting information on…</td>\n",
       "      <td>0.995030</td>\n",
       "    </tr>\n",
       "    <tr>\n",
       "      <th>431</th>\n",
       "      <td>RT @tribelaw: Some people claim that, even if Rosenstein gives Mueller permission to indict Trump as DOJ rules allow, the Constitution forb…</td>\n",
       "      <td>0.994726</td>\n",
       "    </tr>\n",
       "    <tr>\n",
       "      <th>183</th>\n",
       "      <td>RT @tribelaw: Some people claim that, even if Rosenstein gives Mueller permission to indict Trump as DOJ rules allow, the Constitution forb…</td>\n",
       "      <td>0.994726</td>\n",
       "    </tr>\n",
       "    <tr>\n",
       "      <th>90</th>\n",
       "      <td>RT @peterbakernyt: Trump told Naval Academy graduates that he gave the military first raise in years and will build nearly 200 new ships ve…</td>\n",
       "      <td>0.993210</td>\n",
       "    </tr>\n",
       "    <tr>\n",
       "      <th>131</th>\n",
       "      <td>RT @peterbakernyt: Trump told Naval Academy graduates that he gave the military first raise in years and will build nearly 200 new ships ve…</td>\n",
       "      <td>0.993210</td>\n",
       "    </tr>\n",
       "    <tr>\n",
       "      <th>165</th>\n",
       "      <td>RT @ManInTheHoody: y'all are tripping like this is Donald Trump and Jeff Sessions stealing babies from their parents.\\n\\nSure, they give the…</td>\n",
       "      <td>0.992235</td>\n",
       "    </tr>\n",
       "  </tbody>\n",
       "</table>\n",
       "</div>"
      ],
      "text/plain": [
       "                                                                                                                                                  tweetText  \\\n",
       "14   RT @ManInTheHoody: trump is like hitler\\n\\ntrump is like hitler\\n\\ntrump is like hitler\\n\\ntrump is like hitler\\n\\ntrump is like hitler\\n\\ntrump is l…   \n",
       "33   RT @EdKrassen: There could be video evidence of Vladimir Putin at Trump Tower, personally delivering voting machines to Donald Trump, and t…             \n",
       "411  RT @KevinSussman: Trump team: “Colluding with Russia to swing an election isn’t technically a crime so it’s fine.”\\n\\nAlso Trump team: “Kneel…           \n",
       "76   RT @C_3C_3: SWAMP PANIC:\\n\\nObama: 5/25/10\\nTrump:  5/25/18\\n\\nObama: Approval: 42% \\nTrump:  Approval: 49%  \\n\\nObama: Media Coverage: 95% POSITIV…     \n",
       "416  RT @Fuctupmind: \"Let’s just lay it out really simple for the liberals and the media - the FBI had a person that was getting information on…              \n",
       "431  RT @tribelaw: Some people claim that, even if Rosenstein gives Mueller permission to indict Trump as DOJ rules allow, the Constitution forb…             \n",
       "183  RT @tribelaw: Some people claim that, even if Rosenstein gives Mueller permission to indict Trump as DOJ rules allow, the Constitution forb…             \n",
       "90   RT @peterbakernyt: Trump told Naval Academy graduates that he gave the military first raise in years and will build nearly 200 new ships ve…             \n",
       "131  RT @peterbakernyt: Trump told Naval Academy graduates that he gave the military first raise in years and will build nearly 200 new ships ve…             \n",
       "165  RT @ManInTheHoody: y'all are tripping like this is Donald Trump and Jeff Sessions stealing babies from their parents.\\n\\nSure, they give the…            \n",
       "\n",
       "     prediction  \n",
       "14   0.999591    \n",
       "33   0.996439    \n",
       "411  0.996184    \n",
       "76   0.995454    \n",
       "416  0.995030    \n",
       "431  0.994726    \n",
       "183  0.994726    \n",
       "90   0.993210    \n",
       "131  0.993210    \n",
       "165  0.992235    "
      ]
     },
     "execution_count": 78,
     "metadata": {},
     "output_type": "execute_result"
    }
   ],
   "source": [
    "DataSet_sorted[['tweetText', 'prediction']].head(10)"
   ]
  },
  {
   "cell_type": "code",
   "execution_count": 79,
   "metadata": {},
   "outputs": [
    {
     "data": {
      "text/html": [
       "<div>\n",
       "<style scoped>\n",
       "    .dataframe tbody tr th:only-of-type {\n",
       "        vertical-align: middle;\n",
       "    }\n",
       "\n",
       "    .dataframe tbody tr th {\n",
       "        vertical-align: top;\n",
       "    }\n",
       "\n",
       "    .dataframe thead th {\n",
       "        text-align: right;\n",
       "    }\n",
       "</style>\n",
       "<table border=\"1\" class=\"dataframe\">\n",
       "  <thead>\n",
       "    <tr style=\"text-align: right;\">\n",
       "      <th></th>\n",
       "      <th>tweetText</th>\n",
       "      <th>prediction</th>\n",
       "    </tr>\n",
       "  </thead>\n",
       "  <tbody>\n",
       "    <tr>\n",
       "      <th>271</th>\n",
       "      <td>RT @sahilkapur: “Horrible law” = not a law. It’s Trump administration policy that didn’t happen under Obama or Bush. POTUS has the power to…</td>\n",
       "      <td>0.021979</td>\n",
       "    </tr>\n",
       "    <tr>\n",
       "      <th>204</th>\n",
       "      <td>RT @sahilkapur: “Horrible law” = not a law. It’s Trump administration policy that didn’t happen under Obama or Bush. POTUS has the power to…</td>\n",
       "      <td>0.021979</td>\n",
       "    </tr>\n",
       "    <tr>\n",
       "      <th>213</th>\n",
       "      <td>RT @PradRachael: CAVUTO LIVE:\\n\\nMother of MS-13 Victim\\nOn Trump's gangs \\nCrackdown \\n\\nMother of MS-13 victim on Trump's gang crackdown\\n\\nhttps…</td>\n",
       "      <td>0.017805</td>\n",
       "    </tr>\n",
       "    <tr>\n",
       "      <th>200</th>\n",
       "      <td>RT @ZemanLynnZ: Utterly Unfit': MSNBC Panel Is Appalled at Latest Report of Trump's Racist Comments Behind Closed Doors\\n https://t.co/sE1rB…</td>\n",
       "      <td>0.017130</td>\n",
       "    </tr>\n",
       "    <tr>\n",
       "      <th>468</th>\n",
       "      <td>RT @yorkist1980: I can't imagine why 😒\\n\\nToday’s politicians seem more hated than ever – but Theresa May’s predecessor had it worse | The In…</td>\n",
       "      <td>0.012561</td>\n",
       "    </tr>\n",
       "    <tr>\n",
       "      <th>438</th>\n",
       "      <td>RT @DeanObeidallah: We need more of this!! 'I'm not reading any more of these -- they're lies': MSNBC's Nicolle Wallace refuses to read Tru…</td>\n",
       "      <td>0.012167</td>\n",
       "    </tr>\n",
       "    <tr>\n",
       "      <th>169</th>\n",
       "      <td>RT @bjaninemorison: #Trump and #Pence are #racists.\\nShame on the @NFL.\\nShame on @realDonaldTrump.\\nShame on @mike_pence.\\nThis is not a new t…</td>\n",
       "      <td>0.012107</td>\n",
       "    </tr>\n",
       "    <tr>\n",
       "      <th>136</th>\n",
       "      <td>RT @SpicyFiles: 🚨Oh SNAP🚨\\n\\nYohai‘ s Attorneys pulled the eject button citing \\n-lack of candor\\n-lack of payment\\n-failure to cooperate\\nWonder…</td>\n",
       "      <td>0.006855</td>\n",
       "    </tr>\n",
       "    <tr>\n",
       "      <th>174</th>\n",
       "      <td>RT @4everNeverTrump: 1,475 children.\\n\\n1,475 children are missing.\\n\\n1,475 children are missing due to the malicious incompetence of the US G…</td>\n",
       "      <td>0.003065</td>\n",
       "    </tr>\n",
       "    <tr>\n",
       "      <th>40</th>\n",
       "      <td>RT @4everNeverTrump: 1,475 children.\\n\\n1,475 children are missing.\\n\\n1,475 children are missing due to the malicious incompetence of the US G…</td>\n",
       "      <td>0.003065</td>\n",
       "    </tr>\n",
       "  </tbody>\n",
       "</table>\n",
       "</div>"
      ],
      "text/plain": [
       "                                                                                                                                                tweetText  \\\n",
       "271  RT @sahilkapur: “Horrible law” = not a law. It’s Trump administration policy that didn’t happen under Obama or Bush. POTUS has the power to…           \n",
       "204  RT @sahilkapur: “Horrible law” = not a law. It’s Trump administration policy that didn’t happen under Obama or Bush. POTUS has the power to…           \n",
       "213  RT @PradRachael: CAVUTO LIVE:\\n\\nMother of MS-13 Victim\\nOn Trump's gangs \\nCrackdown \\n\\nMother of MS-13 victim on Trump's gang crackdown\\n\\nhttps…   \n",
       "200  RT @ZemanLynnZ: Utterly Unfit': MSNBC Panel Is Appalled at Latest Report of Trump's Racist Comments Behind Closed Doors\\n https://t.co/sE1rB…          \n",
       "468  RT @yorkist1980: I can't imagine why 😒\\n\\nToday’s politicians seem more hated than ever – but Theresa May’s predecessor had it worse | The In…         \n",
       "438  RT @DeanObeidallah: We need more of this!! 'I'm not reading any more of these -- they're lies': MSNBC's Nicolle Wallace refuses to read Tru…           \n",
       "169  RT @bjaninemorison: #Trump and #Pence are #racists.\\nShame on the @NFL.\\nShame on @realDonaldTrump.\\nShame on @mike_pence.\\nThis is not a new t…       \n",
       "136  RT @SpicyFiles: 🚨Oh SNAP🚨\\n\\nYohai‘ s Attorneys pulled the eject button citing \\n-lack of candor\\n-lack of payment\\n-failure to cooperate\\nWonder…     \n",
       "174  RT @4everNeverTrump: 1,475 children.\\n\\n1,475 children are missing.\\n\\n1,475 children are missing due to the malicious incompetence of the US G…       \n",
       "40   RT @4everNeverTrump: 1,475 children.\\n\\n1,475 children are missing.\\n\\n1,475 children are missing due to the malicious incompetence of the US G…       \n",
       "\n",
       "     prediction  \n",
       "271  0.021979    \n",
       "204  0.021979    \n",
       "213  0.017805    \n",
       "200  0.017130    \n",
       "468  0.012561    \n",
       "438  0.012167    \n",
       "169  0.012107    \n",
       "136  0.006855    \n",
       "174  0.003065    \n",
       "40   0.003065    "
      ]
     },
     "execution_count": 79,
     "metadata": {},
     "output_type": "execute_result"
    }
   ],
   "source": [
    "DataSet_sorted[['tweetText', 'prediction']].tail(10)"
   ]
  },
  {
   "cell_type": "markdown",
   "metadata": {},
   "source": [
    "### Tweets that are predicted as very positive"
   ]
  },
  {
   "cell_type": "code",
   "execution_count": 76,
   "metadata": {},
   "outputs": [
    {
     "name": "stdout",
     "output_type": "stream",
     "text": [
      "RT @ManInTheHoody: trump is like hitler\n",
      "\n",
      "trump is like hitler\n",
      "\n",
      "trump is like hitler\n",
      "\n",
      "trump is like hitler\n",
      "\n",
      "trump is like hitler\n",
      "\n",
      "trump is l…\n"
     ]
    }
   ],
   "source": [
    "print(DataSet_sorted['tweetText'].iloc[0])"
   ]
  },
  {
   "cell_type": "markdown",
   "metadata": {},
   "source": [
    "Obviously the model got it wrong here. Because the tweet contains the word like 5 times, the model thinks this most be a very positive tweet. Here we see a disadvantage of using the bag of words method. We are not looking at the context of the word 'like'."
   ]
  },
  {
   "cell_type": "code",
   "execution_count": 87,
   "metadata": {},
   "outputs": [
    {
     "name": "stdout",
     "output_type": "stream",
     "text": [
      "RT @EdKrassen: There could be video evidence of Vladimir Putin at Trump Tower, personally delivering voting machines to Donald Trump, and t…\n"
     ]
    }
   ],
   "source": [
    "print(DataSet_sorted['tweetText'].iloc[1])"
   ]
  },
  {
   "cell_type": "markdown",
   "metadata": {},
   "source": [
    "This isn't a positive tweet either. So although 80% accuracy on the test set seems promising, there is a lot of room for improvement on this simple model."
   ]
  },
  {
   "cell_type": "code",
   "execution_count": 88,
   "metadata": {},
   "outputs": [
    {
     "name": "stdout",
     "output_type": "stream",
     "text": [
      "RT @KevinSussman: Trump team: “Colluding with Russia to swing an election isn’t technically a crime so it’s fine.”\n",
      "\n",
      "Also Trump team: “Kneel…\n"
     ]
    }
   ],
   "source": [
    "print(DataSet_sorted['tweetText'].iloc[2])"
   ]
  },
  {
   "cell_type": "markdown",
   "metadata": {},
   "source": [
    "Also wronly classified..."
   ]
  },
  {
   "cell_type": "code",
   "execution_count": 89,
   "metadata": {},
   "outputs": [
    {
     "name": "stdout",
     "output_type": "stream",
     "text": [
      "RT @C_3C_3: SWAMP PANIC:\n",
      "\n",
      "Obama: 5/25/10\n",
      "Trump:  5/25/18\n",
      "\n",
      "Obama: Approval: 42% \n",
      "Trump:  Approval: 49%  \n",
      "\n",
      "Obama: Media Coverage: 95% POSITIV…\n"
     ]
    }
   ],
   "source": [
    "print(DataSet_sorted['tweetText'].iloc[3])"
   ]
  },
  {
   "cell_type": "code",
   "execution_count": 90,
   "metadata": {},
   "outputs": [
    {
     "name": "stdout",
     "output_type": "stream",
     "text": [
      "RT @Fuctupmind: \"Let’s just lay it out really simple for the liberals and the media - the FBI had a person that was getting information on…\n"
     ]
    }
   ],
   "source": [
    "print(DataSet_sorted['tweetText'].iloc[4])"
   ]
  },
  {
   "cell_type": "markdown",
   "metadata": {},
   "source": [
    "### Tweets that are predicted as very negative"
   ]
  },
  {
   "cell_type": "code",
   "execution_count": 91,
   "metadata": {},
   "outputs": [
    {
     "name": "stdout",
     "output_type": "stream",
     "text": [
      "RT @4everNeverTrump: 1,475 children.\n",
      "\n",
      "1,475 children are missing.\n",
      "\n",
      "1,475 children are missing due to the malicious incompetence of the US G…\n"
     ]
    }
   ],
   "source": [
    "print(DataSet_sorted['tweetText'].iloc[-1])"
   ]
  },
  {
   "cell_type": "code",
   "execution_count": 93,
   "metadata": {},
   "outputs": [
    {
     "name": "stdout",
     "output_type": "stream",
     "text": [
      "RT @SpicyFiles: 🚨Oh SNAP🚨\n",
      "\n",
      "Yohai‘ s Attorneys pulled the eject button citing \n",
      "-lack of candor\n",
      "-lack of payment\n",
      "-failure to cooperate\n",
      "Wonder…\n"
     ]
    }
   ],
   "source": [
    "print(DataSet_sorted['tweetText'].iloc[-3])"
   ]
  },
  {
   "cell_type": "code",
   "execution_count": 94,
   "metadata": {},
   "outputs": [
    {
     "name": "stdout",
     "output_type": "stream",
     "text": [
      "RT @bjaninemorison: #Trump and #Pence are #racists.\n",
      "Shame on the @NFL.\n",
      "Shame on @realDonaldTrump.\n",
      "Shame on @mike_pence.\n",
      "This is not a new t…\n"
     ]
    }
   ],
   "source": [
    "print(DataSet_sorted['tweetText'].iloc[-4])"
   ]
  },
  {
   "cell_type": "markdown",
   "metadata": {},
   "source": [
    "### Hashtags"
   ]
  },
  {
   "cell_type": "code",
   "execution_count": 120,
   "metadata": {},
   "outputs": [],
   "source": [
    "tag_cloud = {}\n",
    "for tweet in results:\n",
    "    hashtags = tweet.entities['hashtags']\n",
    "    if len(hashtags) > 0:\n",
    "        for hashtag in hashtags:\n",
    "            tag = hashtag['text']\n",
    "            if tag in tag_cloud:\n",
    "                tag_cloud[tag] += 1\n",
    "            else:\n",
    "                tag_cloud[tag] = 1"
   ]
  },
  {
   "cell_type": "code",
   "execution_count": 124,
   "metadata": {},
   "outputs": [],
   "source": [
    "# save the hashtags to disk\n",
    "with open('hashtags/hashtags.csv', 'w') as f:\n",
    "    [f.write('{0},{1}\\n'.format(tag, val)) for tag, val in tag_cloud.items()]"
   ]
  },
  {
   "cell_type": "markdown",
   "metadata": {},
   "source": [
    "Let's look at the hashtags encoutered in the 500 tweets that contain the word Trump:"
   ]
  },
  {
   "cell_type": "code",
   "execution_count": 121,
   "metadata": {},
   "outputs": [
    {
     "name": "stdout",
     "output_type": "stream",
     "text": [
      "ThatIsAll   1\n",
      "TeamKJ   1\n",
      "HarveyWeinsteinArrested   4\n",
      "Trump   9\n",
      "MAGA   4\n",
      "WhereAreTheChildren   10\n",
      "AMJoy   1\n",
      "SaturdayMorning   2\n",
      "TheResistance   1\n",
      "FoxNews   1\n",
      "Resist   1\n",
      "ImpeachTrump   2\n",
      "WhereAreTheChildrenMarch   1\n",
      "LockHimUp   1\n",
      "KeepAmericaGreat   1\n",
      "trump   1\n",
      "Rekognition   1\n",
      "ResistTrump   1\n",
      "WhatFunIsIn4Word   1\n",
      "SpyGate   2\n",
      "ObamaGate   1\n",
      "NewRule   1\n",
      "Pence   1\n",
      "racists   1\n",
      "TheHuntForTheTrumpTapes   1\n",
      "MelaniaElevatorTape   1\n",
      "MuellerWantsToKnow   1\n",
      "DemocratsHateAmerica   1\n",
      "RegressiveLeft   1\n",
      "LiberalsMustGo   1\n",
      "MCGA   1\n",
      "Brexit   1\n",
      "ICE   1\n",
      "UraniumOne   1\n",
      "QAnon   1\n",
      "NRA   1\n",
      "Trump2020   1\n",
      "DworkinReport   1\n",
      "GOP   1\n",
      "Spygate   1\n",
      "StandWithTrump   1\n",
      "قروب_فلسطيني   1\n",
      "BuildThePipeLine   1\n",
      "Keystone   1\n",
      "AmericaFIRST   1\n",
      "WhatFunIsIn4Words   1\n",
      "Winning   1\n"
     ]
    }
   ],
   "source": [
    "for tag,val in tag_cloud.items():\n",
    "    print(tag, \" \", val)"
   ]
  }
 ],
 "metadata": {
  "kernelspec": {
   "display_name": "Python 3",
   "language": "python",
   "name": "python3"
  },
  "language_info": {
   "codemirror_mode": {
    "name": "ipython",
    "version": 3
   },
   "file_extension": ".py",
   "mimetype": "text/x-python",
   "name": "python",
   "nbconvert_exporter": "python",
   "pygments_lexer": "ipython3",
   "version": "3.6.4"
  }
 },
 "nbformat": 4,
 "nbformat_minor": 2
}
